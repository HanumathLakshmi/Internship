{
 "cells": [
  {
   "cell_type": "code",
   "execution_count": 1,
   "id": "0f244c1b-914d-413d-b13d-19a3659110ca",
   "metadata": {},
   "outputs": [
    {
     "name": "stdout",
     "output_type": "stream",
     "text": [
      "Count of all characters in GeeksforGeeks is :\n",
      " {'G': 2, 'e': 4, 'k': 2, 's': 2, 'f': 1, 'o': 1, 'r': 1}\n"
     ]
    }
   ],
   "source": [
    "# Python3 code to demonstrate\n",
    "# each occurrence frequency using\n",
    "# naive method\n",
    "\n",
    "# initializing string\n",
    "test_str = \"GeeksforGeeks\"\n",
    "\n",
    "# using naive method to get count\n",
    "# of each element in string\n",
    "all_freq = {}\n",
    "\n",
    "for i in test_str:\n",
    "\tif i in all_freq:\n",
    "\t\tall_freq[i] += 1\n",
    "\telse:\n",
    "\t\tall_freq[i] = 1\n",
    "\n",
    "# printing result\n",
    "print(\"Count of all characters in GeeksforGeeks is :\\n \"\n",
    "\t+ str(all_freq))\n"
   ]
  },
  {
   "cell_type": "code",
   "execution_count": null,
   "id": "613c37be-240d-4c37-8c05-45b675852477",
   "metadata": {},
   "outputs": [],
   "source": []
  }
 ],
 "metadata": {
  "kernelspec": {
   "display_name": "Python 3 (ipykernel)",
   "language": "python",
   "name": "python3"
  },
  "language_info": {
   "codemirror_mode": {
    "name": "ipython",
    "version": 3
   },
   "file_extension": ".py",
   "mimetype": "text/x-python",
   "name": "python",
   "nbconvert_exporter": "python",
   "pygments_lexer": "ipython3",
   "version": "3.9.13"
  }
 },
 "nbformat": 4,
 "nbformat_minor": 5
}
